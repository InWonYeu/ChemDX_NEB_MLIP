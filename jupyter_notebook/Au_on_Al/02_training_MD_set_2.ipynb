{
 "cells": [
  {
   "cell_type": "markdown",
   "id": "8dd6d1fb",
   "metadata": {},
   "source": [
    "# ANN training"
   ]
  },
  {
   "cell_type": "code",
   "execution_count": 2,
   "id": "45d05d4b",
   "metadata": {},
   "outputs": [
    {
     "name": "stdout",
     "output_type": "stream",
     "text": [
      "You are all set for the tutorial.\n"
     ]
    }
   ],
   "source": [
    "import os\n",
    "import sys\n",
    "\n",
    "from ase import Atoms, Atom, units\n",
    "import ase.io\n",
    "from ase.calculators.emt import EMT\n",
    "from ase.build import add_adsorbate, fcc100, fcc110, fcc111\n",
    "from ase.md.velocitydistribution import MaxwellBoltzmannDistribution\n",
    "from ase.md import VelocityVerlet\n",
    "from ase.constraints import FixAtoms\n",
    "from ase.md import MDLogger\n",
    "from ase.md.langevin import Langevin\n",
    "\n",
    "from amp import Amp\n",
    "from amp.descriptor.gaussian import Gaussian\n",
    "from amp.model.neuralnetwork import NeuralNetwork\n",
    "from amp.model import LossFunction\n",
    "\n",
    "print(\"You are all set for the tutorial.\")"
   ]
  },
  {
   "cell_type": "markdown",
   "id": "15b82fd6",
   "metadata": {},
   "source": [
    "# ANN training #2: training on MD + NEB"
   ]
  },
  {
   "cell_type": "code",
   "execution_count": 2,
   "id": "e3fd552e",
   "metadata": {},
   "outputs": [
    {
     "name": "stdout",
     "output_type": "stream",
     "text": [
      "zsh:1: no matches found: amp-*\n"
     ]
    }
   ],
   "source": [
    "!rm -rf amp-*"
   ]
  },
  {
   "cell_type": "code",
   "execution_count": 3,
   "id": "a8798d4a",
   "metadata": {},
   "outputs": [],
   "source": [
    "! OMP_NUM_THREADS=1 OPENBLAS_NUM_THREADS=1 MKL_NUM_THREADS=1 PYTHONUNBUFFERED=1 \"{sys.executable}\" train_amp_2.py"
   ]
  },
  {
   "cell_type": "code",
   "execution_count": 4,
   "id": "483e9220",
   "metadata": {},
   "outputs": [],
   "source": [
    "!mv amp.amp amp_2.amp"
   ]
  },
  {
   "cell_type": "code",
   "execution_count": 1,
   "id": "42641d79",
   "metadata": {},
   "outputs": [
    {
     "name": "stdout",
     "output_type": "stream",
     "text": [
      "1 convergence attempt(s) found.\n",
      "Plotting data series 0.\n",
      "/Users/inwon/anaconda3/bin/amp-plotconvergence:37: UserWarning: This figure includes Axes that are not compatible with tight_layout, so results might be incorrect.\n",
      "  pdf.savefig(fig)\n"
     ]
    }
   ],
   "source": [
    "from amp.analysis import plot_convergence\n",
    "\n",
    "# plot_convergence(\"amp-log.txt\")\n",
    "! amp-plotconvergence amp-log.txt"
   ]
  },
  {
   "cell_type": "markdown",
   "id": "f10717b3",
   "metadata": {},
   "source": [
    "### MD with ANN potential (amp_2.amp) start with hollow site"
   ]
  },
  {
   "cell_type": "code",
   "execution_count": 5,
   "id": "89d73693",
   "metadata": {},
   "outputs": [],
   "source": [
    "slab = fcc100('Al', size=(3, 3, 4))\n",
    "add_adsorbate(slab, 'Au', 1.7, 'hollow')\n",
    "slab.center(axis=2, vacuum=6.0)\n",
    "\n",
    "# Fix third and fourth layers\n",
    "constraint = FixAtoms(mask=[atom.tag > 2 for atom in slab])\n",
    "slab.set_constraint(constraint)\n",
    "\n",
    "# Enarlge slab to test fast ANN-MD\n",
    "supercell = slab.repeat((1, 1, 1))\n",
    "\n",
    "# Set the trained Amp as calculator\n",
    "calc = Amp.load('amp_2.amp')\n",
    "supercell.calc = calc\n",
    "\n",
    "# Set the momenta corresponding to T=300K\n",
    "MaxwellBoltzmannDistribution(supercell, temperature_K=300)\n",
    "\n",
    "# We want to run MD with constant energy using the VelocityVerlet algorithm.\n",
    "dyn = VelocityVerlet(supercell, 2 * units.fs)  # 2 fs time step.\n",
    "# dyn = Langevin(supercell, 2 * units.fs, temperature_K=300, friction=0.002)\n",
    "\n",
    "# traj 파일 열기 (쓰기 모드, atoms 초기 상태 등록)\n",
    "with ase.io.Trajectory('hollow.traj', 'w', supercell) as traj:\n",
    "    # 5 스텝마다 원자 구조 저장\n",
    "    dyn.attach(traj.write, interval=5)\n",
    "\n",
    "    # 로그도 파일에 기록 (옵션)\n",
    "    dyn.attach(MDLogger(dyn, supercell, 'hollow.log', header=True,\n",
    "                        stress=False, peratom=False), interval=5)\n",
    "\n",
    "    # 짧게 예열\n",
    "    dyn.run(5000)"
   ]
  },
  {
   "cell_type": "code",
   "execution_count": 6,
   "id": "4f630f74",
   "metadata": {},
   "outputs": [
    {
     "name": "stderr",
     "output_type": "stream",
     "text": [
      "/Users/inwon/anaconda3/lib/python3.11/site-packages/ase/io/extxyz.py:318: UserWarning: Skipping unhashable information adsorbate_info\n",
      "  warnings.warn('Skipping unhashable information '\n"
     ]
    }
   ],
   "source": [
    "images = ase.io.read('hollow.traj', ':')\n",
    "ase.io.write('hollow.extxyz', images)"
   ]
  },
  {
   "cell_type": "code",
   "execution_count": 1,
   "id": "ec48ba5e",
   "metadata": {},
   "outputs": [],
   "source": [
    "from matplotlib import pyplot as plt\n",
    "import numpy as np\n",
    "\n",
    "with open(\"hollow.log\", 'r') as infile:\n",
    "    lines = infile.readlines()\n",
    "    \n",
    "Time = []\n",
    "Etot = []\n",
    "Epot = []\n",
    "Ekin = []\n",
    "Temp = []\n",
    "for line in lines[1:]:\n",
    "    tmp = line.split()\n",
    "\n",
    "    Time.append(tmp[0])\n",
    "    Etot.append(tmp[1])\n",
    "    Epot.append(tmp[2])\n",
    "    Ekin.append(tmp[3])\n",
    "    Temp.append(tmp[4])\n",
    "\n",
    "Time = np.array(Time, dtype=np.float64)\n",
    "Etot = np.array(Etot, dtype=np.float64)\n",
    "Epot = np.array(Epot, dtype=np.float64)\n",
    "Ekin = np.array(Ekin, dtype=np.float64)\n",
    "Temp = np.array(Temp, dtype=np.float64)"
   ]
  },
  {
   "cell_type": "code",
   "execution_count": 3,
   "id": "e723bb3d",
   "metadata": {},
   "outputs": [
    {
     "name": "stdout",
     "output_type": "stream",
     "text": [
      "[7.5231 7.5231 7.5233 ... 7.5232 7.5232 7.5232]\n"
     ]
    }
   ],
   "source": [
    "print(Etot)"
   ]
  },
  {
   "cell_type": "code",
   "execution_count": 4,
   "id": "a0c391e4",
   "metadata": {},
   "outputs": [
    {
     "data": {
      "image/png": "[encoded data removed]",
      "text/plain": [
       "<Figure size 600x300 with 1 Axes>"
      ]
     },
     "metadata": {},
     "output_type": "display_data"
    }
   ],
   "source": [
    "fig = plt.figure(figsize=(6, 3))\n",
    "ax = fig.subplots()\n",
    "\n",
    "font_x = {'size': 16, 'color': 'black'}\n",
    "font_y = {'size': 16, 'color': 'black'}\n",
    "font_tick = {'size': 16, 'color': 'black'}\n",
    "\n",
    "# The first plot\n",
    "ax.plot(Time, Etot, linestyle='-', color='tab:blue', linewidth=2, label='Original DFT')\n",
    "\n",
    "ax.set_xlabel(\"Time (ps)\", fontdict=font_x)\n",
    "ax.set_xlim([-0.1, 10.1])\n",
    "x_labels = [round(label, 2) for label in ax.get_xticks()]\n",
    "ax.set_xticks(x_labels)\n",
    "ax.set_xlim([-0.1, 10.1])\n",
    "ax.set_xticklabels(x_labels, fontdict=font_tick)\n",
    "\n",
    "ax.set_ylabel(\"Total Energy (eV)\", fontdict=font_y)\n",
    "ax.set_ylim([7.51, 7.53])\n",
    "y_labels = [round(label, 2) for label in ax.get_yticks()]\n",
    "ax.set_yticks(y_labels)\n",
    "ax.set_ylim([7.51, 7.53])\n",
    "ax.set_yticklabels(y_labels, fontdict=font_tick)\n",
    "\n",
    "fig.tight_layout()\n",
    "plt.show()"
   ]
  },
  {
   "cell_type": "markdown",
   "id": "fc01e3ae",
   "metadata": {},
   "source": [
    "### MD with ANN potential (amp_2.amp) start with bridge site"
   ]
  },
  {
   "cell_type": "code",
   "execution_count": 3,
   "id": "35adbe8c",
   "metadata": {},
   "outputs": [],
   "source": [
    "slab = fcc100('Al', size=(3, 3, 4))\n",
    "add_adsorbate(slab, 'Au', 1.7, 'bridge')\n",
    "slab.center(axis=2, vacuum=6.0)\n",
    "\n",
    "# Fix third and fourth layers\n",
    "constraint = FixAtoms(mask=[atom.tag > 2 for atom in slab])\n",
    "slab.set_constraint(constraint)\n",
    "\n",
    "# Enarlge slab to test fast ANN-MD\n",
    "supercell = slab.repeat((1, 1, 1))\n",
    "\n",
    "# Set the trained Amp as calculator\n",
    "calc = Amp.load('amp_2.amp')\n",
    "supercell.calc = calc\n",
    "\n",
    "# Set the momenta corresponding to T=300K\n",
    "MaxwellBoltzmannDistribution(supercell, temperature_K=300)\n",
    "\n",
    "# We want to run MD with constant energy using the VelocityVerlet algorithm.\n",
    "dyn = VelocityVerlet(supercell, 2 * units.fs)  # 2 fs time step.\n",
    "# dyn = Langevin(supercell, 2 * units.fs, temperature_K=300, friction=0.002)\n",
    "\n",
    "# traj 파일 열기 (쓰기 모드, atoms 초기 상태 등록)\n",
    "with ase.io.Trajectory('bridge.traj', 'w', supercell) as traj:\n",
    "    # 5 스텝마다 원자 구조 저장\n",
    "    dyn.attach(traj.write, interval=5)\n",
    "\n",
    "    # 로그도 파일에 기록 (옵션)\n",
    "    dyn.attach(MDLogger(dyn, supercell, 'bridge.log', header=True,\n",
    "                        stress=False, peratom=False), interval=5)\n",
    "\n",
    "    # 짧게 예열\n",
    "    dyn.run(1000)"
   ]
  },
  {
   "cell_type": "code",
   "execution_count": 4,
   "id": "e53974e5",
   "metadata": {},
   "outputs": [
    {
     "name": "stderr",
     "output_type": "stream",
     "text": [
      "/Users/inwon/anaconda3/lib/python3.11/site-packages/ase/io/extxyz.py:318: UserWarning: Skipping unhashable information adsorbate_info\n",
      "  warnings.warn('Skipping unhashable information '\n"
     ]
    }
   ],
   "source": [
    "images = ase.io.read('bridge.traj', ':')\n",
    "ase.io.write('bridge.extxyz', images)"
   ]
  },
  {
   "cell_type": "code",
   "execution_count": null,
   "id": "8cd48d89",
   "metadata": {},
   "outputs": [],
   "source": []
  }
 ],
 "metadata": {
  "kernelspec": {
   "display_name": "base",
   "language": "python",
   "name": "python3"
  },
  "language_info": {
   "codemirror_mode": {
    "name": "ipython",
    "version": 3
   },
   "file_extension": ".py",
   "mimetype": "text/x-python",
   "name": "python",
   "nbconvert_exporter": "python",
   "pygments_lexer": "ipython3",
   "version": "3.11.5"
  }
 },
 "nbformat": 4,
 "nbformat_minor": 5
}
