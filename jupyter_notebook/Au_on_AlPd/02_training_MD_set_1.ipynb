{
 "cells": [
  {
   "cell_type": "markdown",
   "id": "8dd6d1fb",
   "metadata": {},
   "source": [
    "# ANN training"
   ]
  },
  {
   "cell_type": "code",
   "execution_count": 2,
   "id": "45d05d4b",
   "metadata": {},
   "outputs": [
    {
     "name": "stdout",
     "output_type": "stream",
     "text": [
      "You are all set for the tutorial.\n"
     ]
    }
   ],
   "source": [
    "import os\n",
    "import sys\n",
    "\n",
    "from ase import Atoms, Atom, units\n",
    "import ase.io\n",
    "from ase.calculators.emt import EMT\n",
    "from ase.build import add_adsorbate, fcc100, fcc110, fcc111\n",
    "from ase.md.velocitydistribution import MaxwellBoltzmannDistribution\n",
    "from ase.md import VelocityVerlet\n",
    "from ase.constraints import FixAtoms\n",
    "from ase.md import MDLogger\n",
    "from ase.md.langevin import Langevin\n",
    "\n",
    "from amp import Amp\n",
    "from amp.descriptor.gaussian import Gaussian\n",
    "from amp.model.neuralnetwork import NeuralNetwork\n",
    "from amp.model import LossFunction\n",
    "\n",
    "print(\"You are all set for the tutorial.\")"
   ]
  },
  {
   "cell_type": "markdown",
   "id": "13d36490",
   "metadata": {},
   "source": [
    "# ANN training #1: training on MD only"
   ]
  },
  {
   "cell_type": "code",
   "execution_count": 2,
   "id": "57b9743c",
   "metadata": {},
   "outputs": [
    {
     "name": "stdout",
     "output_type": "stream",
     "text": [
      "zsh:1: no matches found: amp-*\n"
     ]
    }
   ],
   "source": [
    "!rm -rf amp-*"
   ]
  },
  {
   "cell_type": "code",
   "execution_count": 3,
   "id": "a7c802d1",
   "metadata": {},
   "outputs": [],
   "source": [
    "! OMP_NUM_THREADS=1 OPENBLAS_NUM_THREADS=1 MKL_NUM_THREADS=1 PYTHONUNBUFFERED=1 \"{sys.executable}\" train_amp_1.py"
   ]
  },
  {
   "cell_type": "code",
   "execution_count": 4,
   "id": "a8e4f3aa",
   "metadata": {},
   "outputs": [],
   "source": [
    "!mv amp.amp amp_1.amp"
   ]
  },
  {
   "cell_type": "code",
   "execution_count": 5,
   "id": "3d586049",
   "metadata": {},
   "outputs": [
    {
     "name": "stdout",
     "output_type": "stream",
     "text": [
      "1 convergence attempt(s) found.\n",
      "Plotting data series 0.\n",
      "/Users/inwon/anaconda3/bin/amp-plotconvergence:37: UserWarning: This figure includes Axes that are not compatible with tight_layout, so results might be incorrect.\n",
      "  pdf.savefig(fig)\n"
     ]
    }
   ],
   "source": [
    "from amp.analysis import plot_convergence\n",
    "\n",
    "# plot_convergence(\"amp-log.txt\")\n",
    "! amp-plotconvergence amp-log.txt"
   ]
  },
  {
   "cell_type": "markdown",
   "id": "479a26cb",
   "metadata": {},
   "source": [
    "### MD with ANN potential (amp_1.amp) start with hollow site"
   ]
  },
  {
   "cell_type": "code",
   "execution_count": null,
   "id": "8f1d6276",
   "metadata": {},
   "outputs": [],
   "source": [
    "# initial structure\n",
    "slab = fcc100('Al', size=(3, 3, 4))\n",
    "add_adsorbate(slab, 'Au', 1.7, 'hollow')\n",
    "slab.center(axis=2, vacuum=6.0)\n",
    "\n",
    "# Fix third and fourth layers\n",
    "constraint = FixAtoms(mask=[atom.tag > 2 for atom in slab])\n",
    "slab.set_constraint(constraint)\n",
    "\n",
    "# Enarlge slab to test fast ANN-MD\n",
    "# (2, 2, 1) takes too long -> (1, 1, 1)\n",
    "supercell = slab.repeat((1, 1, 1))\n",
    "\n",
    "# Set the trained Amp as calculator\n",
    "calc = Amp.load('amp_1.amp')\n",
    "supercell.calc = calc\n",
    "\n",
    "# Set the momenta corresponding to T=300K\n",
    "MaxwellBoltzmannDistribution(supercell, temperature_K=300)\n",
    "\n",
    "# We want to run MD with constant energy using the VelocityVerlet algorithm.\n",
    "dyn = VelocityVerlet(supercell, 2 * units.fs)  # 2 fs time step.\n",
    "# dyn = Langevin(supercell, 2 * units.fs, temperature_K=300, friction=0.002)\n",
    "\n",
    "# traj 파일 열기 (쓰기 모드, atoms 초기 상태 등록)\n",
    "with ase.io.Trajectory('hollow.traj', 'w', supercell) as traj:\n",
    "    # 5 스텝마다 원자 구조 저장\n",
    "    dyn.attach(traj.write, interval=5)\n",
    "\n",
    "    # 로그도 파일에 기록 (옵션)\n",
    "    dyn.attach(MDLogger(dyn, supercell, 'hollow.log', header=True,\n",
    "                        stress=False, peratom=False), interval=5)\n",
    "\n",
    "    # 짧게 예열\n",
    "    dyn.run(100)\n",
    "    # 안정하면 늘리기\n",
    "    dyn.run(900)"
   ]
  },
  {
   "cell_type": "code",
   "execution_count": 8,
   "id": "0fd28d71",
   "metadata": {},
   "outputs": [
    {
     "name": "stderr",
     "output_type": "stream",
     "text": [
      "/Users/inwon/anaconda3/lib/python3.11/site-packages/ase/io/extxyz.py:318: UserWarning: Skipping unhashable information adsorbate_info\n",
      "  warnings.warn('Skipping unhashable information '\n"
     ]
    }
   ],
   "source": [
    "images = ase.io.read('hollow.traj', ':')\n",
    "ase.io.write('hollow.extxyz', images)"
   ]
  },
  {
   "cell_type": "markdown",
   "id": "a5cd17e6",
   "metadata": {},
   "source": [
    "### MD with ANN potential (amp_1.amp) start with bridge site"
   ]
  },
  {
   "cell_type": "code",
   "execution_count": null,
   "id": "64b2fca5",
   "metadata": {},
   "outputs": [],
   "source": [
    "# initial structure\n",
    "slab = fcc100('Al', size=(3, 3, 4))\n",
    "add_adsorbate(slab, 'Au', 1.7, 'bridge')\n",
    "slab.center(axis=2, vacuum=6.0)\n",
    "\n",
    "# Fix third and fourth layers\n",
    "constraint = FixAtoms(mask=[atom.tag > 2 for atom in slab])\n",
    "slab.set_constraint(constraint)\n",
    "\n",
    "# Enarlge slab to test fast ANN-MD\n",
    "# (2, 2, 1) takes too long -> (1, 1, 1)\n",
    "supercell = slab.repeat((1, 1, 1))\n",
    "\n",
    "# Set the trained Amp as calculator\n",
    "calc = Amp.load('amp_1.amp')\n",
    "supercell.calc = calc\n",
    "\n",
    "# Set the momenta corresponding to T=300K\n",
    "MaxwellBoltzmannDistribution(supercell, temperature_K=300)\n",
    "\n",
    "# We want to run MD with constant energy using the VelocityVerlet algorithm.\n",
    "dyn = VelocityVerlet(supercell, 2 * units.fs)  # 2 fs time step.\n",
    "# dyn = Langevin(supercell, 2 * units.fs, temperature_K=300, friction=0.002)\n",
    "\n",
    "# traj 파일 열기 (쓰기 모드, atoms 초기 상태 등록)\n",
    "with ase.io.Trajectory('bridge.traj', 'w', supercell) as traj:\n",
    "    # 5 스텝마다 원자 구조 저장\n",
    "    dyn.attach(traj.write, interval=5)\n",
    "\n",
    "    # 로그도 파일에 기록 (옵션)\n",
    "    dyn.attach(MDLogger(dyn, supercell, 'bridge.log', header=True,\n",
    "                        stress=False, peratom=False), interval=5)\n",
    "\n",
    "    # 짧게 예열\n",
    "    dyn.run(100)\n",
    "    # 안정하면 늘리기\n",
    "    dyn.run(900)"
   ]
  },
  {
   "cell_type": "code",
   "execution_count": null,
   "id": "e8e60a6e",
   "metadata": {},
   "outputs": [],
   "source": [
    "images = ase.io.read('bridge.traj', ':')\n",
    "ase.io.write('bridge.extxyz', images)"
   ]
  }
 ],
 "metadata": {
  "kernelspec": {
   "display_name": "base",
   "language": "python",
   "name": "python3"
  },
  "language_info": {
   "codemirror_mode": {
    "name": "ipython",
    "version": 3
   },
   "file_extension": ".py",
   "mimetype": "text/x-python",
   "name": "python",
   "nbconvert_exporter": "python",
   "pygments_lexer": "ipython3",
   "version": "3.11.5"
  }
 },
 "nbformat": 4,
 "nbformat_minor": 5
}
